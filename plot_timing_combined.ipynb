{
 "cells": [
  {
   "cell_type": "code",
   "execution_count": null,
   "metadata": {},
   "outputs": [],
   "source": [
    "import matplotlib.pyplot as plt\n",
    "import numpy as np\n",
    "import pandas as pd"
   ]
  },
  {
   "cell_type": "code",
   "execution_count": null,
   "metadata": {},
   "outputs": [],
   "source": [
    "capture_time = 10.0\n",
    "\n",
    "def load_timing(csv_file):\n",
    "    df = pd.read_csv(csv_file)\n",
    "    # I think the max size datagram is the status message.\n",
    "    max_size_only = df[\"data.len\"] == np.max(df[\"data.len\"])\n",
    "    ts = np.asarray(df[max_size_only][\"frame.time_relative\"])\n",
    "    ts = ts[ts <= capture_time]\n",
    "    dts = np.diff(ts)\n",
    "    return ts, dts"
   ]
  },
  {
   "cell_type": "code",
   "execution_count": null,
   "metadata": {},
   "outputs": [],
   "source": [
    "base = \"/tmp/franka_timing\"\n",
    "subdirs = [\"localhost\", \"soft\", \"realtime\"]\n",
    "modes = [\"robot_fake\", \"robot_real\"]"
   ]
  },
  {
   "cell_type": "code",
   "execution_count": null,
   "metadata": {},
   "outputs": [],
   "source": [
    "timings = {}\n",
    "max_dt = 0.0\n",
    "# Figure out max dt.\n",
    "for s, subdir in enumerate(subdirs):\n",
    "    for m, mode in enumerate(modes):\n",
    "        csv_file = f\"{base}/{subdir}/{mode}.csv\"\n",
    "        ts, dts = load_timing(csv_file)\n",
    "        max_dt = max(max_dt, dts.max())\n",
    "        timings[s, m] = (ts, dts)"
   ]
  },
  {
   "cell_type": "code",
   "execution_count": null,
   "metadata": {},
   "outputs": [],
   "source": [
    "_, axs = plt.subplots(\n",
    "    nrows=len(subdirs), ncols=len(modes), figsize=(15, 15), squeeze=False,\n",
    ")\n",
    "for s, subdir in enumerate(subdirs):\n",
    "    for m, mode in enumerate(modes):\n",
    "        ts, dts = timings[s, m]\n",
    "        plt.sca(axs[s, m])\n",
    "        plt.plot(ts[1:], dts)\n",
    "        plt.ylabel(\"dt (sec)\")\n",
    "        plt.xlabel(\"time (sec)\")\n",
    "        plt.xlim(0, capture_time)\n",
    "        plt.ylim(0, max_dt)\n",
    "        plt.title(f\"{subdir}/{mode}\")\n",
    "plt.tight_layout()\n",
    "plt.savefig(\"/tmp/timing_combined.png\")"
   ]
  },
  {
   "cell_type": "code",
   "execution_count": null,
   "metadata": {},
   "outputs": [],
   "source": []
  }
 ],
 "metadata": {
  "kernelspec": {
   "display_name": "Python 3",
   "language": "python",
   "name": "python3"
  },
  "language_info": {
   "codemirror_mode": {
    "name": "ipython",
    "version": 3
   },
   "file_extension": ".py",
   "mimetype": "text/x-python",
   "name": "python",
   "nbconvert_exporter": "python",
   "pygments_lexer": "ipython3",
   "version": "3.8.10"
  }
 },
 "nbformat": 4,
 "nbformat_minor": 4
}
